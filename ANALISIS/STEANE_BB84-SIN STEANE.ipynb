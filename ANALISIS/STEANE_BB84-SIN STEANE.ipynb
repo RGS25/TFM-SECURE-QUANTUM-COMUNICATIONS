{
 "cells": [
  {
   "cell_type": "code",
   "execution_count": 1,
   "id": "c39a826b-13ea-45f6-96c3-583bc4b8f6ae",
   "metadata": {},
   "outputs": [],
   "source": [
    "from qiskit import QuantumCircuit, QuantumRegister, ClassicalRegister, Aer, transpile, assemble, execute\n",
    "from qiskit.visualization import plot_histogram, plot_bloch_multivector\n",
    "from qiskit.providers.aer.noise import pauli_error\n",
    "from numpy.random import randint\n",
    "import numpy as np\n",
    "import random\n",
    "import hashlib"
   ]
  },
  {
   "cell_type": "code",
   "execution_count": 2,
   "id": "42030f9e-f58c-47a9-ae7a-a54d26beaee7",
   "metadata": {},
   "outputs": [],
   "source": [
    "def visualizar_secuencia(secuencia, bits, bases, k=1):\n",
    "    \"\"\"\n",
    "    Visualiza los primeros k circuitos cuánticos del criptograma,\n",
    "    mostrando el bit y la base utilizados para codificar cada uno.\n",
    "    k (int): Número de circuitos a visualizar (por defecto 1).\n",
    "    \"\"\"\n",
    "    for i in range(min(k, len(secuencia))):\n",
    "        bit = bits[i]\n",
    "        base = bases[i]\n",
    "        base_str = \"(computacional)\" if base == 0 else \"(diagonal)\"\n",
    "        print(f\"Qubit {i} | Bit: {bit} | Base: {base_str}\")\n",
    "        display(secuencia[i].draw('mpl', style=\"iqp\"))"
   ]
  },
  {
   "cell_type": "code",
   "execution_count": 3,
   "id": "3351bc46-73e2-4536-86d0-396397955e7b",
   "metadata": {},
   "outputs": [],
   "source": [
    "def canalcuantico(circuit: QuantumCircuit) -> QuantumCircuit:\n",
    "    \n",
    "    #Parte libre de errores en los canales que vamos a transmitir del 0 al 7\n",
    "    sin_error = pauli_error([('X', 0), ('I', 1)])\n",
    "    for i in range(7):\n",
    "        circuit.append(sin_error,[i])\n",
    "    \n",
    "    return circuit"
   ]
  },
  {
   "cell_type": "code",
   "execution_count": 4,
   "id": "1ac2883d-7845-4a95-8ac2-b9ed56519843",
   "metadata": {},
   "outputs": [],
   "source": [
    "def introduce_error(secuencia: list, error_prob=1.0) -> list:\n",
    "    \"\"\"\n",
    "    Introduce errores aleatorios X, Y o Z directamente en los circuitos de la lista dada.\n",
    "\n",
    "    Parámetros:\n",
    "        secuencia (list): Lista de circuitos cuánticos ya construidos.\n",
    "        error_prob (float): Probabilidad de que se introduzca un error en cada circuito (0 a 1).\n",
    "\n",
    "    Retorna:\n",
    "        list: La misma lista, con errores introducidos directamente en los circuitos.\n",
    "    \"\"\"\n",
    "    import random\n",
    "\n",
    "    for circuito in secuencia:\n",
    "        if random.random() < error_prob:\n",
    "            qubit_error = random.randint(0, 0)\n",
    "            tipo_error = random.choice(['X', 'Y', 'Z'])\n",
    "            circuito.barrier()\n",
    "            if tipo_error == 'X':\n",
    "                circuito.x(qubit_error)\n",
    "            elif tipo_error == 'Y':\n",
    "                circuito.y(qubit_error)\n",
    "            elif tipo_error == 'Z':\n",
    "                circuito.z(qubit_error)\n",
    "            circuito.barrier()\n",
    "\n",
    "    return secuencia"
   ]
  },
  {
   "cell_type": "code",
   "execution_count": 5,
   "id": "26455ef5-b474-4e0c-ab93-a3e70851839c",
   "metadata": {},
   "outputs": [],
   "source": [
    "def steane_encode(input_state: QuantumCircuit = None) -> QuantumCircuit:\n",
    "    \"\"\"Crea el circuito de codificación de Steane.\"\"\"\n",
    "    qr = QuantumRegister(7, 'q')  # 7 qubits de información\n",
    "    circ = QuantumCircuit(qr)\n",
    "\n",
    "    # Si se proporciona un estado cuántico, lo insertamos en el qubit 0\n",
    "    if input_state:\n",
    "        # Aplicamos el estado al qubit 0 usando circ.compose\n",
    "        circ.compose(input_state, qubits=[0], inplace=True)\n",
    "\n",
    "    circ.barrier()\n",
    "    # Codificación de Steane\n",
    "    circ.h(4)\n",
    "    circ.h(5)\n",
    "    circ.h(6)\n",
    "    circ.cx(0, 1)\n",
    "    circ.cx(0, 2)\n",
    "    circ.barrier()\n",
    "    \n",
    "    circ.cx(6, 0)\n",
    "    circ.cx(6, 1)\n",
    "    circ.cx(6, 3)\n",
    "    circ.barrier()\n",
    "    \n",
    "    circ.cx(5, 0)\n",
    "    circ.cx(5, 2)\n",
    "    circ.cx(5, 3)\n",
    "    circ.barrier()\n",
    "    \n",
    "    circ.cx(4, 1)\n",
    "    circ.cx(4, 2)\n",
    "    circ.cx(4, 3)   \n",
    "    circ.barrier()\n",
    "    \n",
    "    return circ"
   ]
  },
  {
   "cell_type": "code",
   "execution_count": 6,
   "id": "6a41421c-7743-4ef9-9a32-ab8dc80bb337",
   "metadata": {},
   "outputs": [],
   "source": [
    "#funcion para codificar la secuencia en arreglo a las bases elegidas\n",
    "def codificacion(bits, bases):\n",
    "    secuencia = []\n",
    "    for i in range(n):\n",
    "        resultado_cr = ClassicalRegister(1, 'bit_leido')\n",
    "        qc = QuantumCircuit(1,0)\n",
    "        qc.add_register(resultado_cr)\n",
    "        qc.reset(0)\n",
    "        \n",
    "        if bases[i] == 0: # Trasmitimos el cubit en la base computacional\n",
    "            if bits[i] == 0:\n",
    "                # Codificamos |0> bit=0, base=0\n",
    "                pass\n",
    "            else:\n",
    "                # Codificamos |1> bit=1, base=0\n",
    "                qc.x(0)\n",
    "        else: # Transmitimos el cubit en la base diagonal segun protocolo BB84\n",
    "            if bits[i] == 0:\n",
    "                # Transmitimos |+>  bit=0, base=1\n",
    "                qc.h(0)\n",
    "            else: \n",
    "                # Transmitimos |->  bit=1, base=1\n",
    "                qc.x(0)\n",
    "                qc.h(0)\n",
    "\n",
    "        # Aplicamos la codificacion de Steane antes de transmitirlo\n",
    "        #qubit_encoded = steane_encode(qc)\n",
    "        qubit_encoded=qc\n",
    "        \n",
    "        # Añadimos el cubit codificado a la secuencia a transmitir\n",
    "        secuencia.append(qubit_encoded)\n",
    "        \n",
    "    return secuencia"
   ]
  },
  {
   "cell_type": "code",
   "execution_count": 7,
   "id": "248e3d06-77ee-4f44-ae45-574bca1e05e0",
   "metadata": {},
   "outputs": [],
   "source": [
    "def steane_sindrome(circ: QuantumCircuit) -> QuantumCircuit:\n",
    "    \"\"\"Añade medición del síndrome al circuito y realiza corrección.\"\"\"\n",
    "\n",
    "    \"\"\"\n",
    "    # Verificamos si el ClassicalRegister ya existe y si no lo creamos\n",
    "    if 'bit_leido' not in [cr.name for cr in circ.cregs]:\n",
    "        #resultado_cr = ClassicalRegister(1, 'bit_leido')\n",
    "        #circ.add_register(resultado_cr)\n",
    "    else:\n",
    "        # Usa el registro existente\n",
    "        resultado_cr = [cr for cr in circ.cregs if cr.name == 'bit_leido'][0]\n",
    "    \"\"\"\n",
    "    # Verificar si los registros ancilla ya existen\n",
    "    if not any(qr.name == 'anc' for qr in circ.qregs):\n",
    "        ancilla_qr = QuantumRegister(6, 'anc')\n",
    "        circ.add_register(ancilla_qr)\n",
    "    else:\n",
    "        ancilla_qr = [qr for qr in circ.qregs if qr.name == 'anc'][0]\n",
    "\n",
    "    if not any(cr.name == 'ancilla_bit' for cr in circ.cregs):\n",
    "        ancilla_cr = ClassicalRegister(6, 'ancilla_bit')\n",
    "        circ.add_register(ancilla_cr)\n",
    "    else:\n",
    "        ancilla_cr = [cr for cr in circ.cregs if cr.name == 'ancilla_bit'][0]\n",
    "\n",
    "\n",
    "    # Preparación de ancillas\n",
    "    circ.barrier()\n",
    "    for i in range(6):\n",
    "        circ.reset(ancilla_qr[i])\n",
    "        circ.h(ancilla_qr[i])\n",
    "\n",
    "    # Medición en Z\n",
    "    circ.cz(ancilla_qr[0], 0)\n",
    "    circ.cz(ancilla_qr[0], 2)\n",
    "    circ.cz(ancilla_qr[0], 4)\n",
    "    circ.cz(ancilla_qr[0], 6)\n",
    "    circ.barrier()\n",
    "\n",
    "    circ.cz(ancilla_qr[1], 1)\n",
    "    circ.cz(ancilla_qr[1], 2)\n",
    "    circ.cz(ancilla_qr[1], 5)\n",
    "    circ.cz(ancilla_qr[1], 6)\n",
    "    circ.barrier()\n",
    "\n",
    "    circ.cz(ancilla_qr[2], 3)\n",
    "    circ.cz(ancilla_qr[2], 4)\n",
    "    circ.cz(ancilla_qr[2], 5)\n",
    "    circ.cz(ancilla_qr[2], 6)\n",
    "    circ.barrier()\n",
    "\n",
    "    # Medición en X\n",
    "    circ.cx(ancilla_qr[3], 0)\n",
    "    circ.cx(ancilla_qr[3], 2)\n",
    "    circ.cx(ancilla_qr[3], 4)\n",
    "    circ.cx(ancilla_qr[3], 6)\n",
    "    circ.barrier()\n",
    "\n",
    "    circ.cx(ancilla_qr[4], 1)\n",
    "    circ.cx(ancilla_qr[4], 2)\n",
    "    circ.cx(ancilla_qr[4], 5)\n",
    "    circ.cx(ancilla_qr[4], 6)\n",
    "    circ.barrier()\n",
    "\n",
    "    circ.cx(ancilla_qr[5], 3)\n",
    "    circ.cx(ancilla_qr[5], 4)\n",
    "    circ.cx(ancilla_qr[5], 5)\n",
    "    circ.cx(ancilla_qr[5], 6)\n",
    "    circ.barrier()\n",
    "\n",
    "    for i in range(6):\n",
    "        circ.h(ancilla_qr[i])\n",
    "\n",
    "    circ.measure(ancilla_qr, ancilla_cr)\n",
    "    circ.barrier()\n",
    "\n",
    "    # Corrección condicional según síndrome\n",
    "    known_syndromes = {\n",
    "        0b000001: ('X', 0), 0b000010: ('X', 1), 0b000011: ('X', 2),\n",
    "        0b000100: ('X', 3), 0b000101: ('X', 4), 0b000110: ('X', 5), 0b000111: ('X', 6),\n",
    "        0b001000: ('Z', 0), 0b010000: ('Z', 1), 0b011000: ('Z', 2),\n",
    "        0b100000: ('Z', 3), 0b101000: ('Z', 4), 0b110000: ('Z', 5), 0b111000: ('Z', 6),\n",
    "        0b001001: ('Y', 0), 0b010010: ('Y', 1), 0b011011: ('Y', 2),\n",
    "        0b100100: ('Y', 3), 0b101101: ('Y', 4), 0b110110: ('Y', 5), 0b111111: ('Y', 6)\n",
    "    }\n",
    "\n",
    "    for syndrome, (err_type, qubit) in known_syndromes.items():\n",
    "        with circ.if_test((ancilla_cr, syndrome)):\n",
    "            if err_type == 'X':\n",
    "                circ.x(qubit)\n",
    "            elif err_type == 'Z':\n",
    "                circ.z(qubit)\n",
    "            elif err_type == 'Y':\n",
    "                circ.y(qubit)\n",
    "\n",
    "    circ.barrier()\n",
    "    return circ\n"
   ]
  },
  {
   "cell_type": "code",
   "execution_count": 8,
   "id": "0e908d0a-5f54-43ea-835d-e99dc8b96aca",
   "metadata": {},
   "outputs": [],
   "source": [
    "def steane_decode(circ: QuantumCircuit) -> QuantumCircuit:\n",
    "    \"\"\"Decodificación de Steane.\"\"\"\n",
    "    circ.cx(4, 1)\n",
    "    circ.cx(4, 2)\n",
    "    circ.cx(4, 3)\n",
    "    circ.barrier()\n",
    "\n",
    "    circ.cx(5, 0)\n",
    "    circ.cx(5, 2)\n",
    "    circ.cx(5, 3)\n",
    "    circ.barrier()\n",
    "\n",
    "    circ.cx(6, 0)\n",
    "    circ.cx(6, 1)\n",
    "    circ.cx(6, 3)\n",
    "    circ.barrier()\n",
    "\n",
    "    circ.cx(0, 1)\n",
    "    circ.cx(0, 2)\n",
    "    circ.h(4)\n",
    "    circ.h(5)\n",
    "    circ.h(6)\n",
    "    circ.barrier()\n",
    "\n",
    "    return circ\n"
   ]
  },
  {
   "cell_type": "code",
   "execution_count": 9,
   "id": "ac80f80b-9855-40af-9a2d-fcada67bebce",
   "metadata": {},
   "outputs": [],
   "source": [
    "def medicion(transmision, bases):\n",
    "    backend = Aer.get_backend('aer_simulator')\n",
    "    secuencia_leida = []\n",
    "\n",
    "    for i, circ in enumerate(transmision):\n",
    "\n",
    "        # Verificamos si el ClassicalRegister ya existe y si no lo creamos\n",
    "        \"\"\"\n",
    "        if 'bit_leido' not in [cr.name for cr in circ.cregs]:\n",
    "            resultado_cr = ClassicalRegister(1, 'bit_leido')\n",
    "            circ.add_register(resultado_cr)\n",
    "        else:\n",
    "            # Usa el registro existente\n",
    "            resultado_cr = [cr for cr in circ.cregs if cr.name == 'bit_leido'][0]\n",
    "        \"\"\"\n",
    "        # Calculamos el Síndrome y lo corregimos\n",
    "        #circ = steane_sindrome(circ)\n",
    "\n",
    "        # Decodificación según Steane\n",
    "        #steane_decode(circ)\n",
    "\n",
    "        # Aplicar rotación si base diagonal en cubit 0 según protocolo BB84\n",
    "        if bases[i] == 1:\n",
    "            circ.h(0)\n",
    "\n",
    "        # Medir qubit 0 en bit clásico 0\n",
    "        resultado_cr = [cr for cr in circ.cregs if cr.name == 'bit_leido'][0]\n",
    "        circ.measure(0, resultado_cr[0])\n",
    "\n",
    "        # Revertir la rotación si se aplicó en la medición\n",
    "        if bases[i] == 1:\n",
    "            circ.h(0)\n",
    "\n",
    "        # Ejecutar el circuito en el backend y obtener los resultados\n",
    "        result = execute(circ, backend, shots=1, memory=True).result()\n",
    "        memoria = result.get_memory()[0].replace(\" \", \"\")\n",
    "\n",
    "        # Obtener solo el bit correspondiente al qubit 0 (último bit clásico añadido)\n",
    "        bit = int(memoria[-1])\n",
    "        secuencia_leida.append(bit)\n",
    "\n",
    "        # Mostrar solo el síndrome (los 6 bits más a la izquierda)\n",
    "        #print(f\"Síndrome ejecución {i + 1}: {memoria[:6]} | Lectura: {bit}\")\n",
    "\n",
    "    return secuencia_leida\n"
   ]
  },
  {
   "cell_type": "code",
   "execution_count": 10,
   "id": "2b3ca377-b5e4-4c83-bfa0-a6da200d3675",
   "metadata": {},
   "outputs": [],
   "source": [
    "def eve_encode(secuencia: list) -> list:\n",
    "    \"\"\"Eve para evitar no ser detectada puede INTENTAR volver a codificar la transmision de los primeros 7 qubits segun Steane.\"\"\"\n",
    "\n",
    "    for circ in secuencia:\n",
    "       # Codificación de Steane\n",
    "        circ.barrier() \n",
    "        circ.h(4)\n",
    "        circ.h(5)\n",
    "        circ.h(6)\n",
    "        circ.cx(0, 1)\n",
    "        circ.cx(0, 2)\n",
    "        circ.barrier()\n",
    "    \n",
    "        circ.cx(6, 0)\n",
    "        circ.cx(6, 1)\n",
    "        circ.cx(6, 3)\n",
    "        circ.barrier()\n",
    "    \n",
    "        circ.cx(5, 0)\n",
    "        circ.cx(5, 2)\n",
    "        circ.cx(5, 3)\n",
    "        circ.barrier()\n",
    "    \n",
    "        circ.cx(4, 1)\n",
    "        circ.cx(4, 2)\n",
    "        circ.cx(4, 3)   \n",
    "        circ.barrier() \n",
    "\n",
    "    return secuencia\n",
    "    "
   ]
  },
  {
   "cell_type": "code",
   "execution_count": 11,
   "id": "fae373ab-5fee-43f5-8f06-3adb79d83899",
   "metadata": {},
   "outputs": [],
   "source": [
    "def obtener_indices_bases_comunes(alice_bases, bob_bases):\n",
    "    \"\"\"\n",
    "    Devuelve los índices donde las bases de Alice y Bob coinciden.\n",
    "    \"\"\"\n",
    "    return [i for i in range(len(alice_bases)) if alice_bases[i] == bob_bases[i]]"
   ]
  },
  {
   "cell_type": "code",
   "execution_count": 12,
   "id": "437f09da-97f3-482e-b809-84ccedbc7a96",
   "metadata": {},
   "outputs": [],
   "source": [
    "def extraer_claves_crudas(alice_bits, bob_bits, indices_comunes):\n",
    "    \"\"\"\n",
    "    Genera las claves crudas de Alice y Bob con los bits donde usaron la misma base.\n",
    "    \"\"\"\n",
    "    clave_alice = [alice_bits[i] for i in indices_comunes]\n",
    "    clave_bob = [bob_bits[i] for i in indices_comunes]\n",
    "    return clave_alice, clave_bob"
   ]
  },
  {
   "cell_type": "code",
   "execution_count": 13,
   "id": "e31b13d2-9c8d-49f0-9c51-089893fe663a",
   "metadata": {},
   "outputs": [],
   "source": [
    "def verificar_presencia_eve(clave_alice, clave_bob, porcentaje_muestra=0.2):\n",
    "    \"\"\"\n",
    "    Realiza un muestreo aleatorio para detectar errores en la clave compartida.\n",
    "    Devuelve claves finales (sin muestreo), número de errores y porcentaje de error.\n",
    "    \"\"\"\n",
    "    longitud = len(clave_alice)\n",
    "    n_muestra = max(1, int(porcentaje_muestra * longitud))\n",
    "    indices_muestra = random.sample(range(longitud), n_muestra)\n",
    "\n",
    "    errores = sum(clave_alice[i] != clave_bob[i] for i in indices_muestra)\n",
    "\n",
    "    # Eliminar bits muestreados para clave final\n",
    "    clave_final_alice = [bit for i, bit in enumerate(clave_alice) if i not in indices_muestra]\n",
    "    clave_final_bob = [bit for i, bit in enumerate(clave_bob) if i not in indices_muestra]\n",
    "\n",
    "    porcentaje_error = errores / n_muestra if n_muestra > 0 else 0\n",
    "\n",
    "    return clave_final_alice, clave_final_bob, errores, porcentaje_error"
   ]
  },
  {
   "cell_type": "code",
   "execution_count": 14,
   "id": "f7326eb0-f0e9-4a04-a82f-f60a6f458812",
   "metadata": {},
   "outputs": [],
   "source": [
    "def generar_clave_segura(clave_bits, longitud_deseada=1024):\n",
    "    \"\"\"\n",
    "    Aplica hashing iterativo sobre la clave para generar una clave simétrica de longitud deseada.\n",
    "    \"\"\"\n",
    "    clave_bin = ''.join(str(bit) for bit in clave_bits)\n",
    "    clave_final = b''\n",
    "    \n",
    "    while len(clave_final) * 8 < longitud_deseada:\n",
    "        hash_obj = hashlib.sha256(clave_bin.encode())\n",
    "        clave_final += hash_obj.digest()\n",
    "        clave_bin = hash_obj.hexdigest()  # Nuevo input para el siguiente hash\n",
    "\n",
    "    return clave_final[:longitud_deseada // 8]  # Retorna en bytes"
   ]
  },
  {
   "cell_type": "code",
   "execution_count": 15,
   "id": "18dfc3a3-d389-4914-84d1-d0d4190143bc",
   "metadata": {},
   "outputs": [],
   "source": [
    "# ESTABLECEMOS LAS VARIABLES EN EL ENTORNO DE SIMULACION\n",
    "np.random.seed(seed=200)\n",
    "n = 100\n"
   ]
  },
  {
   "cell_type": "code",
   "execution_count": 16,
   "id": "17898a86-255f-4b34-bb5f-668213aae20f",
   "metadata": {
    "scrolled": true
   },
   "outputs": [
    {
     "name": "stdout",
     "output_type": "stream",
     "text": [
      "Qubit 0 | Bit: 0 | Base: (diagonal)\n"
     ]
    },
    {
     "data": {
      "image/png": "[encoded data removed]",
      "text/plain": [
       "<Figure size 373.428x200.667 with 1 Axes>"
      ]
     },
     "metadata": {},
     "output_type": "display_data"
    },
    {
     "name": "stdout",
     "output_type": "stream",
     "text": [
      "Qubit 1 | Bit: 1 | Base: (diagonal)\n"
     ]
    },
    {
     "data": {
      "image/png": "[encoded data removed]",
      "text/plain": [
       "<Figure size 457.039x200.667 with 1 Axes>"
      ]
     },
     "metadata": {},
     "output_type": "display_data"
    },
    {
     "name": "stdout",
     "output_type": "stream",
     "text": [
      "Qubit 2 | Bit: 0 | Base: (computacional)\n"
     ]
    },
    {
     "data": {
      "image/png": "[encoded data removed]",
      "text/plain": [
       "<Figure size 289.817x200.667 with 1 Axes>"
      ]
     },
     "metadata": {},
     "output_type": "display_data"
    },
    {
     "name": "stdout",
     "output_type": "stream",
     "text": [
      "Qubit 3 | Bit: 0 | Base: (computacional)\n"
     ]
    },
    {
     "data": {
      "image/png": "[encoded data removed]",
      "text/plain": [
       "<Figure size 289.817x200.667 with 1 Axes>"
      ]
     },
     "metadata": {},
     "output_type": "display_data"
    },
    {
     "name": "stdout",
     "output_type": "stream",
     "text": [
      "Qubit 4 | Bit: 0 | Base: (diagonal)\n"
     ]
    },
    {
     "data": {
      "image/png": "[encoded data removed]",
      "text/plain": [
       "<Figure size 373.428x200.667 with 1 Axes>"
      ]
     },
     "metadata": {},
     "output_type": "display_data"
    }
   ],
   "source": [
    "# FASE 1 : ALICE GENERA LA SECUENCIA DE CUBITS CODIFICADOS SEGUN STEANE Y LES APLICA SU BASE DE TRANSMISION SEGUN PROTOCOLO BB84\n",
    "\n",
    "# Genera una secuencia aleatoria de bits que servirá para generar la clave\n",
    "Alice_bits = randint(2, size=n)\n",
    "# Genera una secuencia aleatoria de bits para la transmisión en la Base Computacional o Diagonal\n",
    "Alice_bases = randint(2, size=n)\n",
    "\n",
    "# Generamos una secuencia que serán los cubits codificados aplicando Steane\n",
    "secuencia_alice = codificacion(Alice_bits, Alice_bases)\n",
    "\n",
    "#################################################################################\n",
    "# Opcionalmente podemos visializar la secuencia de cubits codificados\n",
    "visualizar_secuencia(secuencia_alice, Alice_bits, Alice_bases, k=5)"
   ]
  },
  {
   "cell_type": "code",
   "execution_count": 17,
   "id": "e17a9488-47c5-4aab-92b3-50998d621f5b",
   "metadata": {},
   "outputs": [
    {
     "name": "stdout",
     "output_type": "stream",
     "text": [
      "Qubit 0 | Bit: 0 | Base: (diagonal)\n"
     ]
    },
    {
     "data": {
      "image/png": "[encoded data removed]",
      "text/plain": [
       "<Figure size 624.261x200.667 with 1 Axes>"
      ]
     },
     "metadata": {},
     "output_type": "display_data"
    },
    {
     "name": "stdout",
     "output_type": "stream",
     "text": [
      "Qubit 1 | Bit: 1 | Base: (diagonal)\n"
     ]
    },
    {
     "data": {
      "image/png": "[encoded data removed]",
      "text/plain": [
       "<Figure size 457.039x200.667 with 1 Axes>"
      ]
     },
     "metadata": {},
     "output_type": "display_data"
    },
    {
     "name": "stdout",
     "output_type": "stream",
     "text": [
      "Qubit 2 | Bit: 0 | Base: (computacional)\n"
     ]
    },
    {
     "data": {
      "image/png": "[encoded data removed]",
      "text/plain": [
       "<Figure size 540.65x200.667 with 1 Axes>"
      ]
     },
     "metadata": {},
     "output_type": "display_data"
    },
    {
     "name": "stdout",
     "output_type": "stream",
     "text": [
      "Qubit 3 | Bit: 0 | Base: (computacional)\n"
     ]
    },
    {
     "data": {
      "image/png": "[encoded data removed]",
      "text/plain": [
       "<Figure size 540.65x200.667 with 1 Axes>"
      ]
     },
     "metadata": {},
     "output_type": "display_data"
    },
    {
     "name": "stdout",
     "output_type": "stream",
     "text": [
      "Qubit 4 | Bit: 0 | Base: (diagonal)\n"
     ]
    },
    {
     "data": {
      "image/png": "[encoded data removed]",
      "text/plain": [
       "<Figure size 373.428x200.667 with 1 Axes>"
      ]
     },
     "metadata": {},
     "output_type": "display_data"
    }
   ],
   "source": [
    "# FASE 2 : ALICE TRANSMITE LA SECUENCIA DE CUBITS POR EL CANAL CUÁNTICO, PUEDE EXISTIR ESPIA O NO\n",
    "\n",
    "transmision = []\n",
    "\n",
    "# Transmisión libre de errores\n",
    "\"\"\"\n",
    "for i in range(len(secuencia_alice)):\n",
    "    transmision.append(canalcuantico(secuencia_alice[i]))\n",
    "\"\"\"\n",
    "transmision = secuencia_alice\n",
    "\n",
    "#Opcionalmente pueden existir errores en el canal\n",
    "################################################\n",
    "transmision = introduce_error(transmision, error_prob=0.5)\n",
    "\n",
    "#Medicion del espia Eve\n",
    "##############################################\n",
    "#Eve_bases = randint(2, size=n)\n",
    "#Eve_bits = medicion(transmision, Eve_bases)\n",
    "#Adicionalmente Eve puede intentar volver a codificar según Steane\n",
    "#transmision=eve_encode(transmision)\n",
    "#Opcionalmente pueden existir errores en el canal\n",
    "################################################\n",
    "#transmision = introduce_error(transmision, error_prob=0.5)\n",
    "\n",
    "\n",
    "#################################################################################\n",
    "# Opcionalmente podemos visializar la secuencia de cubits transmitidos\n",
    "visualizar_secuencia(transmision, Alice_bits, Alice_bases, k=5)\n",
    "\n"
   ]
  },
  {
   "cell_type": "code",
   "execution_count": 18,
   "id": "8e786d8f-ebdc-478f-96b6-e953cbed1a09",
   "metadata": {},
   "outputs": [],
   "source": [
    "# FASE 3 : BOB RECIBE LA SECUENCIA DE CUBITS, APLICA LA CORRECCIÓN DE ERRORES SEGÚN STEANE Y LOS LEE, EN UNA BASE ALEATORIA SEGÚN PROTOCOLO BB84\n",
    "# Genera una secuencia aleatoria de bits para la lectura en la Base Computacional o Diagonal\n",
    "Bob_bases = randint(2, size=n)\n",
    "Bob_bits = medicion(transmision, Bob_bases)"
   ]
  },
  {
   "cell_type": "code",
   "execution_count": 19,
   "id": "7118c573-0db6-40bb-86d3-ff616d35ac50",
   "metadata": {},
   "outputs": [],
   "source": [
    "#FASE 4: Ponemos en comun las bases de medición y extraemos la clave en bruto\n",
    "\n",
    "indices_comunes = obtener_indices_bases_comunes(Alice_bases, Bob_bases)\n",
    "clave_cruda_alice, clave_cruda_bob = extraer_claves_crudas(Alice_bits, Bob_bits, indices_comunes)\n"
   ]
  },
  {
   "cell_type": "code",
   "execution_count": 20,
   "id": "1c135e2f-fd63-429d-932d-8a739a8b9462",
   "metadata": {},
   "outputs": [
    {
     "name": "stdout",
     "output_type": "stream",
     "text": [
      "Pos | BaseA | BitA | BaseE | BitE | BaseB | BitB | Coincide (A=B) | Eve altera?\n",
      "-------------------------------------------------------------------------------\n",
      "  0 |   1    |   0  |   -    |   -  |   1    |   1  |       ❌     |     -\n",
      "  1 |   1    |   1  |   -    |   -  |   0    |   1  |       -     |     -\n",
      "  2 |   0    |   0  |   -    |   -  |   1    |   1  |       -     |     -\n",
      "  3 |   0    |   0  |   -    |   -  |   0    |   1  |       ❌     |     -\n",
      "  4 |   1    |   0  |   -    |   -  |   0    |   0  |       -     |     -\n",
      "  5 |   0    |   1  |   -    |   -  |   1    |   1  |       -     |     -\n",
      "  6 |   0    |   0  |   -    |   -  |   1    |   1  |       -     |     -\n",
      "  7 |   1    |   1  |   -    |   -  |   0    |   1  |       -     |     -\n",
      "  8 |   1    |   1  |   -    |   -  |   1    |   1  |       ✔     |     -\n",
      "  9 |   0    |   0  |   -    |   -  |   0    |   0  |       ✔     |     -\n",
      " 10 |   0    |   1  |   -    |   -  |   0    |   1  |       ✔     |     -\n",
      " 11 |   1    |   1  |   -    |   -  |   0    |   1  |       -     |     -\n",
      " 12 |   0    |   1  |   -    |   -  |   0    |   1  |       ✔     |     -\n",
      " 13 |   0    |   1  |   -    |   -  |   0    |   1  |       ✔     |     -\n",
      " 14 |   1    |   0  |   -    |   -  |   1    |   0  |       ✔     |     -\n",
      " 15 |   1    |   0  |   -    |   -  |   0    |   0  |       -     |     -\n",
      " 16 |   1    |   0  |   -    |   -  |   1    |   1  |       ❌     |     -\n",
      " 17 |   1    |   1  |   -    |   -  |   0    |   1  |       -     |     -\n",
      " 18 |   1    |   1  |   -    |   -  |   0    |   1  |       -     |     -\n",
      " 19 |   1    |   1  |   -    |   -  |   1    |   1  |       ✔     |     -\n",
      " 20 |   0    |   1  |   -    |   -  |   0    |   1  |       ✔     |     -\n",
      " 21 |   1    |   1  |   -    |   -  |   0    |   1  |       -     |     -\n",
      " 22 |   0    |   1  |   -    |   -  |   0    |   1  |       ✔     |     -\n",
      " 23 |   1    |   1  |   -    |   -  |   1    |   1  |       ✔     |     -\n",
      " 24 |   1    |   0  |   -    |   -  |   1    |   0  |       ✔     |     -\n",
      " 25 |   0    |   1  |   -    |   -  |   1    |   0  |       -     |     -\n",
      " 26 |   0    |   1  |   -    |   -  |   1    |   1  |       -     |     -\n",
      " 27 |   1    |   0  |   -    |   -  |   1    |   1  |       ❌     |     -\n",
      " 28 |   1    |   1  |   -    |   -  |   0    |   0  |       -     |     -\n",
      " 29 |   0    |   0  |   -    |   -  |   1    |   0  |       -     |     -\n",
      " 30 |   0    |   0  |   -    |   -  |   0    |   0  |       ✔     |     -\n",
      " 31 |   0    |   1  |   -    |   -  |   0    |   1  |       ✔     |     -\n",
      " 32 |   1    |   0  |   -    |   -  |   0    |   0  |       -     |     -\n",
      " 33 |   1    |   1  |   -    |   -  |   0    |   1  |       -     |     -\n",
      " 34 |   1    |   0  |   -    |   -  |   1    |   0  |       ✔     |     -\n",
      " 35 |   0    |   0  |   -    |   -  |   1    |   0  |       -     |     -\n",
      " 36 |   1    |   1  |   -    |   -  |   0    |   0  |       -     |     -\n",
      " 37 |   1    |   0  |   -    |   -  |   1    |   0  |       ✔     |     -\n",
      " 38 |   1    |   0  |   -    |   -  |   0    |   1  |       -     |     -\n",
      " 39 |   1    |   1  |   -    |   -  |   1    |   1  |       ✔     |     -\n",
      " 40 |   0    |   0  |   -    |   -  |   1    |   0  |       -     |     -\n",
      " 41 |   1    |   1  |   -    |   -  |   0    |   0  |       -     |     -\n",
      " 42 |   0    |   1  |   -    |   -  |   1    |   1  |       -     |     -\n",
      " 43 |   0    |   1  |   -    |   -  |   1    |   0  |       -     |     -\n",
      " 44 |   1    |   1  |   -    |   -  |   1    |   0  |       ❌     |     -\n",
      " 45 |   1    |   0  |   -    |   -  |   0    |   0  |       -     |     -\n",
      " 46 |   0    |   0  |   -    |   -  |   1    |   0  |       -     |     -\n",
      " 47 |   0    |   1  |   -    |   -  |   1    |   0  |       -     |     -\n",
      " 48 |   1    |   0  |   -    |   -  |   0    |   0  |       -     |     -\n",
      " 49 |   1    |   0  |   -    |   -  |   0    |   0  |       -     |     -\n",
      " 50 |   1    |   0  |   -    |   -  |   1    |   0  |       ✔     |     -\n",
      " 51 |   0    |   1  |   -    |   -  |   1    |   1  |       -     |     -\n",
      " 52 |   1    |   1  |   -    |   -  |   0    |   0  |       -     |     -\n",
      " 53 |   0    |   1  |   -    |   -  |   0    |   1  |       ✔     |     -\n",
      " 54 |   1    |   0  |   -    |   -  |   0    |   0  |       -     |     -\n",
      " 55 |   1    |   0  |   -    |   -  |   1    |   0  |       ✔     |     -\n",
      " 56 |   0    |   1  |   -    |   -  |   0    |   1  |       ✔     |     -\n",
      " 57 |   1    |   1  |   -    |   -  |   0    |   0  |       -     |     -\n",
      " 58 |   0    |   0  |   -    |   -  |   1    |   1  |       -     |     -\n",
      " 59 |   1    |   0  |   -    |   -  |   1    |   0  |       ✔     |     -\n",
      " 60 |   0    |   0  |   -    |   -  |   0    |   1  |       ❌     |     -\n",
      " 61 |   1    |   0  |   -    |   -  |   1    |   0  |       ✔     |     -\n",
      " 62 |   0    |   1  |   -    |   -  |   1    |   1  |       -     |     -\n",
      " 63 |   0    |   0  |   -    |   -  |   0    |   1  |       ❌     |     -\n",
      " 64 |   1    |   0  |   -    |   -  |   0    |   0  |       -     |     -\n",
      " 65 |   0    |   1  |   -    |   -  |   0    |   1  |       ✔     |     -\n",
      " 66 |   0    |   0  |   -    |   -  |   0    |   0  |       ✔     |     -\n",
      " 67 |   0    |   0  |   -    |   -  |   0    |   1  |       ❌     |     -\n",
      " 68 |   1    |   0  |   -    |   -  |   1    |   1  |       ❌     |     -\n",
      " 69 |   0    |   0  |   -    |   -  |   0    |   0  |       ✔     |     -\n",
      " 70 |   1    |   1  |   -    |   -  |   1    |   1  |       ✔     |     -\n",
      " 71 |   0    |   0  |   -    |   -  |   0    |   0  |       ✔     |     -\n",
      " 72 |   1    |   0  |   -    |   -  |   0    |   1  |       -     |     -\n",
      " 73 |   0    |   0  |   -    |   -  |   0    |   0  |       ✔     |     -\n",
      " 74 |   1    |   0  |   -    |   -  |   0    |   0  |       -     |     -\n",
      " 75 |   0    |   1  |   -    |   -  |   1    |   1  |       -     |     -\n",
      " 76 |   0    |   0  |   -    |   -  |   0    |   1  |       ❌     |     -\n",
      " 77 |   0    |   1  |   -    |   -  |   0    |   1  |       ✔     |     -\n",
      " 78 |   1    |   0  |   -    |   -  |   0    |   0  |       -     |     -\n",
      " 79 |   1    |   0  |   -    |   -  |   1    |   0  |       ✔     |     -\n",
      " 80 |   0    |   1  |   -    |   -  |   1    |   0  |       -     |     -\n",
      " 81 |   1    |   0  |   -    |   -  |   1    |   0  |       ✔     |     -\n",
      " 82 |   0    |   0  |   -    |   -  |   0    |   1  |       ❌     |     -\n",
      " 83 |   1    |   0  |   -    |   -  |   1    |   0  |       ✔     |     -\n",
      " 84 |   0    |   1  |   -    |   -  |   1    |   0  |       -     |     -\n",
      " 85 |   1    |   1  |   -    |   -  |   1    |   0  |       ❌     |     -\n",
      " 86 |   0    |   1  |   -    |   -  |   0    |   0  |       ❌     |     -\n",
      " 87 |   0    |   0  |   -    |   -  |   1    |   0  |       -     |     -\n",
      " 88 |   1    |   0  |   -    |   -  |   0    |   1  |       -     |     -\n",
      " 89 |   0    |   1  |   -    |   -  |   1    |   1  |       -     |     -\n",
      " 90 |   1    |   1  |   -    |   -  |   1    |   0  |       ❌     |     -\n",
      " 91 |   1    |   0  |   -    |   -  |   1    |   1  |       ❌     |     -\n",
      " 92 |   1    |   1  |   -    |   -  |   1    |   1  |       ✔     |     -\n",
      " 93 |   0    |   1  |   -    |   -  |   0    |   1  |       ✔     |     -\n",
      " 94 |   0    |   1  |   -    |   -  |   1    |   0  |       -     |     -\n",
      " 95 |   1    |   1  |   -    |   -  |   1    |   1  |       ✔     |     -\n",
      " 96 |   0    |   0  |   -    |   -  |   0    |   1  |       ❌     |     -\n",
      " 97 |   1    |   0  |   -    |   -  |   0    |   1  |       -     |     -\n",
      " 98 |   0    |   1  |   -    |   -  |   1    |   1  |       -     |     -\n",
      " 99 |   1    |   1  |   -    |   -  |   0    |   0  |       -     |     -\n",
      "Errores detectados: 3 / 10\n",
      "Porcentaje de error estimado: 30.00%\n",
      "⚠️ Intervención de Eve detectada. Imposible generar clave simétrica\n"
     ]
    }
   ],
   "source": [
    "#FASE 5: Evaluación de la tasa de error y verificación de la existencia de un espía Eve \n",
    "\n",
    "clave_final_alice, clave_final_bob, errores, p_error = verificar_presencia_eve(clave_cruda_alice, clave_cruda_bob)\n",
    "\n",
    "eve_presente = 'Eve_bases' in globals() and 'Eve_bits' in globals()\n",
    "\n",
    "print(\"Pos | BaseA | BitA | BaseE | BitE | BaseB | BitB | Coincide (A=B) | Eve altera?\")\n",
    "print(\"-------------------------------------------------------------------------------\")\n",
    "for i in range(n):\n",
    "    base_a = Alice_bases[i]\n",
    "    bit_a = Alice_bits[i]\n",
    "    base_b = Bob_bases[i]\n",
    "    bit_b = Bob_bits[i]\n",
    "\n",
    "    if eve_presente:\n",
    "        base_e = Eve_bases[i]\n",
    "        bit_e = Eve_bits[i]\n",
    "\n",
    "        coincide_ab = base_a == base_b\n",
    "        coincide_bits_ab = bit_a == bit_b\n",
    "        coincide_ae = base_a == base_e\n",
    "\n",
    "        resultado_ab = \"✔\" if coincide_ab and coincide_bits_ab else (\"❌\" if coincide_ab else \"-\")\n",
    "        eve_altera = \"⚠️\" if not coincide_ae and coincide_ab else \"-\"\n",
    "    else:\n",
    "        base_e = \"-\"\n",
    "        bit_e = \"-\"\n",
    "        coincide_ab = base_a == base_b\n",
    "        coincide_bits_ab = bit_a == bit_b\n",
    "        resultado_ab = \"✔\" if coincide_ab and coincide_bits_ab else (\"❌\" if coincide_ab else \"-\")\n",
    "        eve_altera = \"-\"\n",
    "\n",
    "    print(f\"{i:3} |   {base_a}    |   {bit_a}  |   {base_e}    |   {bit_e}  |   {base_b}    |   {bit_b}  |       {resultado_ab}     |     {eve_altera}\")\n",
    "\n",
    "\n",
    "\n",
    "\n",
    "\n",
    "print(f\"Errores detectados: {errores} / {int(0.2 * len(clave_cruda_alice))}\")\n",
    "print(f\"Porcentaje de error estimado: {p_error * 100:.2f}%\")\n",
    "\n",
    "if errores > 0:\n",
    "    print(\"⚠️ Intervención de Eve detectada. Imposible generar clave simétrica\")\n",
    "else:\n",
    "    print(\"✅ Comunicación segura, sin evidencia de espionaje.\")\n",
    "    print(\"\\nClave final de Alice, los primeros 32 bits:\")\n",
    "    print(''.join(str(bit) for bit in clave_final_alice[:32]))\n",
    "\n",
    "    print(\"\\nClave final de Bob, los primeros 32 bits:\")\n",
    "    print(''.join(str(bit) for bit in clave_final_bob[:32]))"
   ]
  },
  {
   "cell_type": "code",
   "execution_count": 21,
   "id": "da72e6a8-a146-4003-99fc-c4921859b063",
   "metadata": {},
   "outputs": [
    {
     "name": "stdout",
     "output_type": "stream",
     "text": [
      "Intervención de Eve detectada. Imposible generar clave simétrica\n"
     ]
    }
   ],
   "source": [
    "#FASE 5 Ampliación de la privacidad \n",
    "#Usando tecnicas tradicionales de Hashing, si no hemos detectado error realizamos una ampliación de la privacidad.\n",
    "\n",
    "if errores > 0:\n",
    "    print(\"Intervención de Eve detectada. Imposible generar clave simétrica\")\n",
    "else:\n",
    "    clave_simetrica = generar_clave_segura(clave_final_alice, longitud_deseada=1024)\n",
    "    print(\"Clave simétrica de 1024 bits generada:\")\n",
    "    print(clave_simetrica.hex())\n"
   ]
  },
  {
   "cell_type": "code",
   "execution_count": 22,
   "id": "5c9b9d34-ad78-48f6-bf1a-268a7a07d993",
   "metadata": {},
   "outputs": [],
   "source": [
    "#visualizar_secuencia(transmision, Alice_bits, Alice_bases, k=3)"
   ]
  },
  {
   "cell_type": "code",
   "execution_count": null,
   "id": "a663e82f-3989-422c-8b8d-dce69b64176a",
   "metadata": {},
   "outputs": [],
   "source": []
  }
 ],
 "metadata": {
  "kernelspec": {
   "display_name": "Python [conda env:anaconda3-TFM] *",
   "language": "python",
   "name": "conda-env-anaconda3-TFM-py"
  },
  "language_info": {
   "codemirror_mode": {
    "name": "ipython",
    "version": 3
   },
   "file_extension": ".py",
   "mimetype": "text/x-python",
   "name": "python",
   "nbconvert_exporter": "python",
   "pygments_lexer": "ipython3",
   "version": "3.11.5"
  }
 },
 "nbformat": 4,
 "nbformat_minor": 5
}
